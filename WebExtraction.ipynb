{
 "cells": [
  {
   "cell_type": "markdown",
   "metadata": {},
   "source": [
    "**1. Scraping the table data from wikipedia page using BeautifulSoup and creating a dataframe with only columns**"
   ]
  },
  {
   "cell_type": "code",
   "execution_count": 85,
   "metadata": {},
   "outputs": [],
   "source": [
    "from bs4 import BeautifulSoup\n",
    "import requests\n",
    "import pandas as pd\n",
    "URL = \"https://en.wikipedia.org/wiki/List_of_postal_codes_of_Canada:_M\"\n",
    "response = requests.get(URL)\n",
    "soup = BeautifulSoup(response.text,\"html.parser\")\n",
    "\n",
    "table = soup.find('table',{'class':'wikitable sortable'}).tbody\n",
    "\n",
    "rows = table.find_all('tr')\n",
    "\n",
    "columns = [v.text.replace('\\n','') for v in rows[0].find_all('th')]\n",
    "\n",
    "df = pd.DataFrame(columns=columns)"
   ]
  },
  {
   "cell_type": "code",
   "execution_count": 86,
   "metadata": {},
   "outputs": [
    {
     "data": {
      "text/plain": [
       "Index(['Postcode', 'Borough', 'Neighbourhood'], dtype='object')"
      ]
     },
     "execution_count": 86,
     "metadata": {},
     "output_type": "execute_result"
    }
   ],
   "source": [
    "df.columns"
   ]
  },
  {
   "cell_type": "markdown",
   "metadata": {},
   "source": [
    "**2. Reading the row data from table rows and appending it into the df dataframe.**"
   ]
  },
  {
   "cell_type": "code",
   "execution_count": 87,
   "metadata": {},
   "outputs": [],
   "source": [
    "for i in range(1,len(rows)):\n",
    "    tds = rows[i].find_all('td')\n",
    "    if tds[1].text != 'Not assigned':\n",
    "            if (tds[2].text.replace('\\n','') == 'Not assigned'):\n",
    "                values = [tds[0].text,tds[1].text,tds[1].text]\n",
    "            else :   \n",
    "                values = [tds[0].text,tds[1].text,tds[2].text.replace('\\n','')]\n",
    "            df = df.append(pd.Series(values,index=columns),ignore_index=True)\n",
    "    else:\n",
    "        values = [td.text.replace('\\n','') for td in tds]\n",
    "#df.to_csv(r'C:\\Users\\dsapre\\Documents\\Python Scripts\\Canada1.csv',index=False)"
   ]
  },
  {
   "cell_type": "markdown",
   "metadata": {},
   "source": [
    "**3. Groupby Postcode and Borough and then join by Neighborhood so that there is only row per Postcode and Borough**"
   ]
  },
  {
   "cell_type": "code",
   "execution_count": 92,
   "metadata": {},
   "outputs": [],
   "source": [
    "df = df.groupby(['Postcode','Borough'])['Neighbourhood'].apply(lambda group: ','.join(group))\n",
    "df = pd.DataFrame(df)\n",
    "#df.to_csv(r'C:\\Users\\dsapre\\Documents\\Python Scripts\\Canada1.csv',index=True)"
   ]
  },
  {
   "cell_type": "code",
   "execution_count": 94,
   "metadata": {},
   "outputs": [
    {
     "data": {
      "text/plain": [
       "(103, 1)"
      ]
     },
     "execution_count": 94,
     "metadata": {},
     "output_type": "execute_result"
    }
   ],
   "source": [
    "df.shape"
   ]
  }
 ],
 "metadata": {
  "kernelspec": {
   "display_name": "Python 3",
   "language": "python",
   "name": "python3"
  },
  "language_info": {
   "codemirror_mode": {
    "name": "ipython",
    "version": 3
   },
   "file_extension": ".py",
   "mimetype": "text/x-python",
   "name": "python",
   "nbconvert_exporter": "python",
   "pygments_lexer": "ipython3",
   "version": "3.7.3"
  }
 },
 "nbformat": 4,
 "nbformat_minor": 2
}
